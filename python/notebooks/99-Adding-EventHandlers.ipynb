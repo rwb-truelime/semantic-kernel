{
 "cells": [
  {
   "attachments": {},
   "cell_type": "markdown",
   "id": "fde98ddf",
   "metadata": {},
   "source": [
    "# Creating a basic chat experience with kernel arguments\n",
    "\n",
    "In this example, we show how you can build a simple chat bot by sending and updating the kernel arguments with your requests. \n",
    "\n",
    "We introduce the Kernel Arguments object which in this demo functions similarly as a key-value store that you can use when running the kernel.\n",
    "\n",
    "The chat history is local (i.e. in your computer's RAM) and not persisted anywhere beyond the life of this Jupyter session.\n",
    "\n",
    "In future examples, we will show how to persist the chat history on disk so that you can bring it into your applications.  \n",
    "\n",
    "In this chat scenario, as the user talks back and forth with the bot, the chat context gets populated with the history of the conversation. During each new run of the kernel, the kernel arguments and chat history can provide the AI with its variables' content. "
   ]
  },
  {
   "cell_type": "code",
   "execution_count": null,
   "id": "92f69b34",
   "metadata": {},
   "outputs": [],
   "source": [
    "!python -m pip install --upgrade semantic-kernel\n",
    "!python -m pip install --upgrade pip\n",
    "!python -m pip install --upgrade tiktoken"
   ]
  },
  {
   "cell_type": "code",
   "execution_count": 1,
   "id": "0a235b31",
   "metadata": {},
   "outputs": [],
   "source": [
    "from services import Service\n",
    "\n",
    "# Select a service to use for this notebook (available services: OpenAI, AzureOpenAI, HuggingFace)\n",
    "selectedService = Service.AzureOpenAI"
   ]
  },
  {
   "cell_type": "code",
   "execution_count": 2,
   "id": "68301108",
   "metadata": {},
   "outputs": [],
   "source": [
    "import semantic_kernel as sk\n",
    "import semantic_kernel.connectors.ai.open_ai as sk_oai\n",
    "from semantic_kernel.prompt_template.input_variable import InputVariable\n",
    "from semantic_kernel.contents.chat_history import ChatHistory\n",
    "from semantic_kernel.functions.kernel_arguments import KernelArguments\n",
    "import tiktoken\n",
    "from semantic_kernel.events.function_invoking_event_args import FunctionInvokingEventArgs\n",
    "from semantic_kernel.events.function_invoked_event_args import FunctionInvokedEventArgs\n",
    "\n",
    "\n",
    "\n",
    "kernel = sk.Kernel()\n",
    "\n",
    "service_id = None\n",
    "if selectedService == Service.OpenAI:\n",
    "    from semantic_kernel.connectors.ai.open_ai import OpenAIChatCompletion\n",
    "\n",
    "    api_key, org_id = sk.openai_settings_from_dot_env()\n",
    "    service_id = \"oai_chat_gpt\"\n",
    "    kernel.add_service(\n",
    "        OpenAIChatCompletion(service_id=service_id, ai_model_id=\"gpt-3.5-turbo-1106\", api_key=api_key, org_id=org_id),\n",
    "    )\n",
    "elif selectedService == Service.AzureOpenAI:\n",
    "    from semantic_kernel.connectors.ai.open_ai import AzureChatCompletion\n",
    "\n",
    "    deployment, api_key, endpoint = sk.azure_openai_settings_from_dot_env()\n",
    "    service_id = \"aoai_chat_completion\"\n",
    "    kernel.add_service(\n",
    "        AzureChatCompletion(service_id=service_id, deployment_name=deployment, endpoint=endpoint, api_key=api_key),\n",
    "    )\n",
    "\n",
    "\n",
    "def calculate_input_tokens(any_string: str) -> int:\n",
    "    # Create an instance of the tokenizer\n",
    "    tokenizer = tiktoken.encoding_for_model(\"gpt-4\")\n",
    "    tokens = tokenizer.encode(any_string)\n",
    "    return len(tokens)\n",
    "\n",
    "\n",
    "def pre_invocation_handler(kernel_function_metadata, event_args: FunctionInvokingEventArgs):\n",
    "    history = event_args.arguments.get('history', '')\n",
    "    print(f\"History: {history}\")\n",
    "    system_message = event_args.arguments.get('system_message', '')\n",
    "    print(f\"System Message: {system_message}\")\n",
    "    user_input = event_args.arguments.get('user_input', '')\n",
    "    print(f\"User Input: {user_input}\")\n",
    "    combined_text = f\"{history} {system_message} {user_input}\"\n",
    "    print(f\"Combined Text: {combined_text}\")\n",
    "    input_tokens = calculate_input_tokens(combined_text)\n",
    "    \n",
    "    # Log or send the input token count to your cost API\n",
    "    print(f\"Input Tokens: {input_tokens}\")\n",
    "    # Send input_tokens to your cost API\n",
    "\n",
    "\n",
    "def post_invocation_handler(kernel_function_metadata, event_args: FunctionInvokedEventArgs):\n",
    "    if event_args.function_result:\n",
    "        # Extract token counts and model type\n",
    "        token_counts = extract_token_counts_from_result(event_args.function_result)\n",
    "        \n",
    "        if token_counts:\n",
    "            # Prepare and print the model type and token counts in a table format\n",
    "            header = \"| Token Type         | Count |\"\n",
    "            separator = \"+--------------------+-------+\"\n",
    "            model_row = f\"| Model Type         | {token_counts.pop('model_type', 'Unknown'):<5} |\"\n",
    "            \n",
    "            print(separator)\n",
    "            print(model_row)  # Print the model type row\n",
    "            print(separator)\n",
    "            print(header)\n",
    "            print(separator)\n",
    "            for token_type, count in token_counts.items():\n",
    "                # Ensure we're not trying to print the model type again\n",
    "                if token_type != 'model_type':\n",
    "                    print(f\"| {token_type:<18} | {count:>5} |\")\n",
    "            print(separator)\n",
    "            \n",
    "            # Here, you would send token_counts to your cost API\n",
    "        else:\n",
    "            print(\"Could not extract token counts from the function result.\")\n",
    "\n",
    "\n",
    "def extract_token_counts_from_result(function_result):\n",
    "    # Ensure that the function_result object is not None\n",
    "    if function_result is None:\n",
    "        print(\"Function result is None.\")\n",
    "        return None\n",
    "    \n",
    "    # Access the inner content of the function result\n",
    "    inner_content = function_result.get_inner_content()\n",
    "    \n",
    "    # Ensure inner_content is not None\n",
    "    if inner_content is None:\n",
    "        print(\"Inner content is None.\")\n",
    "        return None\n",
    "    \n",
    "    # Access the 'usage' attribute directly from the inner_content if it's structured as shown\n",
    "    if hasattr(inner_content, 'usage'):\n",
    "        usage_info = inner_content.usage\n",
    "        \n",
    "        # Extract token counts from the 'usage' attribute\n",
    "        completion_tokens = getattr(usage_info, 'completion_tokens', 0)\n",
    "        prompt_tokens = getattr(usage_info, 'prompt_tokens', 0)\n",
    "        total_tokens = getattr(usage_info, 'total_tokens', 0)\n",
    "        \n",
    "        # Extract the model type from the inner_content\n",
    "        model_type = getattr(inner_content, 'model', 'Unknown model')\n",
    "        \n",
    "        # Return the extracted token counts along with the model type\n",
    "        return {\n",
    "            'model_type': model_type,\n",
    "            'completion_tokens': completion_tokens,\n",
    "            'prompt_tokens': prompt_tokens,\n",
    "            'total_tokens': total_tokens\n",
    "        }\n",
    "    else:\n",
    "        print(\"Usage information is not available.\")\n",
    "        return None\n",
    "    \n",
    "\n",
    "# Assuming `kernel` is your instance of the semantic-kernel\n",
    "# kernel.add_function_invoking_handler(pre_invocation_handler)\n",
    "kernel.add_function_invoked_handler(post_invocation_handler)"
   ]
  },
  {
   "attachments": {},
   "cell_type": "markdown",
   "id": "7971783d",
   "metadata": {},
   "source": [
    "Let's define a prompt outlining a dialogue chat bot."
   ]
  },
  {
   "cell_type": "code",
   "execution_count": 3,
   "id": "e84a05fc",
   "metadata": {},
   "outputs": [],
   "source": [
    "prompt = \"\"\"\n",
    "ChatBot can have a conversation with you about any topic.\n",
    "It can give explicit instructions or say 'I don't know' if it does not have an answer.\n",
    "\n",
    "{{$history}}\n",
    "User: {{$user_input}}\n",
    "ChatBot: \"\"\""
   ]
  },
  {
   "attachments": {},
   "cell_type": "markdown",
   "id": "61716b16",
   "metadata": {},
   "source": [
    "Register your semantic function"
   ]
  },
  {
   "cell_type": "code",
   "execution_count": 4,
   "id": "a3e4b160",
   "metadata": {},
   "outputs": [],
   "source": [
    "if selectedService == Service.OpenAI:\n",
    "    execution_settings = sk_oai.OpenAIChatPromptExecutionSettings(\n",
    "        service_id=service_id,\n",
    "        ai_model_id=\"gpt-3.5-turbo-1106\",\n",
    "        max_tokens=2000,\n",
    "        temperature=0.7,\n",
    "    )\n",
    "elif selectedService == Service.AzureOpenAI:\n",
    "    execution_settings = sk_oai.OpenAIChatPromptExecutionSettings(\n",
    "        service_id=service_id,\n",
    "        ai_model_id=deployment,\n",
    "        max_tokens=2000,\n",
    "        temperature=0.7,\n",
    "    )\n",
    "\n",
    "prompt_template_config = sk.PromptTemplateConfig(\n",
    "    template=prompt,\n",
    "    name=\"chat\",\n",
    "    template_format=\"semantic-kernel\",\n",
    "    input_variables=[\n",
    "        InputVariable(name=\"input\", description=\"The user input\", is_required=True),\n",
    "        InputVariable(name=\"history\", description=\"The conversation history\", is_required=True),\n",
    "    ],\n",
    "    execution_settings=execution_settings,\n",
    ")\n",
    "\n",
    "chat_function = kernel.create_function_from_prompt(\n",
    "    function_name=\"chat\",\n",
    "    plugin_name=\"chatPlugin\",\n",
    "    prompt_template_config=prompt_template_config,\n",
    ")"
   ]
  },
  {
   "cell_type": "code",
   "execution_count": 5,
   "id": "6a0f7c01",
   "metadata": {},
   "outputs": [],
   "source": [
    "chat_history = ChatHistory()\n",
    "chat_history.add_system_message(\"You are a helpful chatbot who is good about giving book recommendations.\")"
   ]
  },
  {
   "attachments": {},
   "cell_type": "markdown",
   "id": "6e8a676f",
   "metadata": {},
   "source": [
    "Initialize the Kernel Arguments"
   ]
  },
  {
   "cell_type": "code",
   "execution_count": 6,
   "id": "a4be7394",
   "metadata": {},
   "outputs": [],
   "source": [
    "arguments = KernelArguments(user_input=\"Hi, I'm looking for book suggestions\", history=chat_history)"
   ]
  },
  {
   "attachments": {},
   "cell_type": "markdown",
   "id": "4ce7c497",
   "metadata": {},
   "source": [
    "Chat with the Bot"
   ]
  },
  {
   "cell_type": "code",
   "execution_count": 7,
   "id": "5ec41eb8",
   "metadata": {},
   "outputs": [
    {
     "name": "stdout",
     "output_type": "stream",
     "text": [
      "+--------------------+-------+\n",
      "| Model Type         | gpt-4 |\n",
      "+--------------------+-------+\n",
      "| Token Type         | Count |\n",
      "+--------------------+-------+\n",
      "| completion_tokens  |    63 |\n",
      "| prompt_tokens      |    76 |\n",
      "| total_tokens       |   139 |\n",
      "+--------------------+-------+\n",
      "Of course, I'd be happy to help with that. Could you please provide a little more information? What type of books do you typically enjoy? For example, are you interested in fiction or non-fiction? Do you prefer a specific genre such as mystery, fantasy, romance, science fiction, history, etc?\n"
     ]
    }
   ],
   "source": [
    "response = await kernel.invoke(chat_function, arguments)\n",
    "print(response)"
   ]
  },
  {
   "attachments": {},
   "cell_type": "markdown",
   "id": "a5b03748",
   "metadata": {},
   "source": [
    "Update the history with the output"
   ]
  },
  {
   "cell_type": "code",
   "execution_count": 8,
   "id": "f50f517d",
   "metadata": {},
   "outputs": [],
   "source": [
    "chat_history.add_assistant_message(str(response))"
   ]
  },
  {
   "attachments": {},
   "cell_type": "markdown",
   "id": "23a2eb02",
   "metadata": {},
   "source": [
    "Keep Chatting!"
   ]
  },
  {
   "cell_type": "code",
   "execution_count": 9,
   "id": "c59efe45",
   "metadata": {},
   "outputs": [],
   "source": [
    "async def chat(input_text: str) -> None:\n",
    "    # Save new message in the context variables\n",
    "    print(f\"User: {input_text}\")\n",
    "    chat_history.add_user_message(input_text)\n",
    "\n",
    "    # Process the user message and get an answer\n",
    "    answer = await kernel.invoke(chat_function, KernelArguments(user_input=input_text, history=chat_history))\n",
    "\n",
    "    # Show the response\n",
    "    print(f\"ChatBot: {answer}\")\n",
    "\n",
    "    chat_history.add_assistant_message(str(answer))"
   ]
  },
  {
   "cell_type": "code",
   "execution_count": 10,
   "id": "06ee244e",
   "metadata": {},
   "outputs": [
    {
     "name": "stdout",
     "output_type": "stream",
     "text": [
      "User: I love history and philosophy, I'd like to learn something new about Greece, any suggestion?\n",
      "+--------------------+-------+\n",
      "| Model Type         | gpt-4 |\n",
      "+--------------------+-------+\n",
      "| Token Type         | Count |\n",
      "+--------------------+-------+\n",
      "| completion_tokens  |   322 |\n",
      "| prompt_tokens      |   176 |\n",
      "| total_tokens       |   498 |\n",
      "+--------------------+-------+\n",
      "ChatBot: Certainly, based on your interest in history, philosophy, and Greece, I can suggest a few books:\n",
      "\n",
      "1. \"The Histories\" by Herodotus: Known as 'The Father of History', Herodotus was a Greek historian who wrote a detailed record of the ancient world which includes a lot about ancient Greece.\n",
      "\n",
      "2. \"History of the Peloponnesian War\" by Thucydides: This is a historical account of the Peloponnesian War (431–404 BC), which was fought between the Peloponnesian League (led by Sparta) and the Delian League (led by Athens). \n",
      "\n",
      "3. \"Plato's Republic\": Plato was one of the most important figures in Western philosophy. In \"The Republic\", Plato imagines a perfect society and discusses concepts of justice, the role of a ruler, and the value of education.\n",
      "\n",
      "4. \"The Iliad\" and \"The Odyssey\" by Homer: These epic poems are among the oldest works of Western literature and provide a lot of insight into ancient Greek culture and mythology.\n",
      "\n",
      "5. \"The Complete Works\" by Aristotle: Aristotle was one of the most influential philosophers in Western history. His works cover a wide range of topics including ethics, politics, metaphysics, and the natural sciences.\n",
      "\n",
      "6. \"The Greeks\" by H.D.F Kitto: This book is a good overview of Greek history, culture, and achievements.\n",
      "\n",
      "Remember, it's always a good idea to read reviews or summaries before picking up a book to make sure it's something you're interested in!\n"
     ]
    }
   ],
   "source": [
    "await chat(\"I love history and philosophy, I'd like to learn something new about Greece, any suggestion?\")"
   ]
  },
  {
   "cell_type": "code",
   "execution_count": 11,
   "id": "82be4e7e",
   "metadata": {},
   "outputs": [
    {
     "name": "stdout",
     "output_type": "stream",
     "text": [
      "User: that sounds interesting, what is it about?\n",
      "+--------------------+-------+\n",
      "| Model Type         | gpt-4 |\n",
      "+--------------------+-------+\n",
      "| Token Type         | Count |\n",
      "+--------------------+-------+\n",
      "| completion_tokens  |    17 |\n",
      "| prompt_tokens      |   505 |\n",
      "| total_tokens       |   522 |\n",
      "+--------------------+-------+\n",
      "ChatBot: You asked about several books, which one specifically are you interested in knowing more about?\n"
     ]
    }
   ],
   "source": [
    "await chat(\"that sounds interesting, what is it about?\")"
   ]
  },
  {
   "cell_type": "code",
   "execution_count": 12,
   "id": "82fe0139",
   "metadata": {},
   "outputs": [
    {
     "name": "stdout",
     "output_type": "stream",
     "text": [
      "User: if I read that book, what exactly will I learn about Greek history?\n",
      "+--------------------+-------+\n",
      "| Model Type         | gpt-4 |\n",
      "+--------------------+-------+\n",
      "| Token Type         | Count |\n",
      "+--------------------+-------+\n",
      "| completion_tokens  |    30 |\n",
      "| prompt_tokens      |   551 |\n",
      "| total_tokens       |   581 |\n",
      "+--------------------+-------+\n",
      "ChatBot: It seems like there's a bit of confusion. Could you please specify which book you're referring to? Then I can provide a more detailed explanation.\n"
     ]
    }
   ],
   "source": [
    "await chat(\"if I read that book, what exactly will I learn about Greek history?\")"
   ]
  },
  {
   "cell_type": "code",
   "execution_count": 13,
   "id": "55b3a9f2",
   "metadata": {},
   "outputs": [
    {
     "name": "stdout",
     "output_type": "stream",
     "text": [
      "User: could you list some more books I could read about this topic?\n",
      "+--------------------+-------+\n",
      "| Model Type         | gpt-4 |\n",
      "+--------------------+-------+\n",
      "| Token Type         | Count |\n",
      "+--------------------+-------+\n",
      "| completion_tokens  |   325 |\n",
      "| prompt_tokens      |   600 |\n",
      "| total_tokens       |   925 |\n",
      "+--------------------+-------+\n",
      "ChatBot: Absolutely, here are a few more recommendations for books about Greek history and philosophy:\n",
      "\n",
      "1. \"The World of Odysseus\" by M.I. Finley: This book provides a fascinating look into the society and values of the Mycenaeans, the ancient Greeks of the Iliad and Odyssey.\n",
      "\n",
      "2. \"The Oresteia\" by Aeschylus: This is a trilogy of Greek tragedies concerning the end of the curse on the House of Atreus. \n",
      "\n",
      "3. \"The Symposium\" by Plato: This is one of Plato's most famous works, in which various guests at a banquet each give a speech in honor of the god Eros and debate the nature of love. \n",
      "\n",
      "4. \"The Nicomachean Ethics\" by Aristotle: This is one of Aristotle's most well-known works and forms the basis of much of Western moral philosophy.\n",
      "\n",
      "5. \"The Birth of Tragedy\" by Friedrich Nietzsche: This is an interesting read for those interested in both philosophy and ancient Greece. Nietzsche uses Greek tragedy as a launching point for his own philosophical ideas.\n",
      "\n",
      "6. \"Greek Fire, Poison Arrows & Scorpion Bombs\" by Adrienne Mayor: This book discusses the biological and chemical warfare in the ancient world, offering a different perspective on ancient Greek warfare.\n",
      "\n",
      "7. \"The Classical World: An Epic History from Homer to Hadrian\" by Robin Lane Fox: This book provides a broad overview of the ancient Greek and Roman worlds.\n",
      "\n",
      "Again, it's a good idea to read reviews or summaries to ensure the book aligns with your specific interests before picking it up.\n"
     ]
    }
   ],
   "source": [
    "await chat(\"could you list some more books I could read about this topic?\")"
   ]
  },
  {
   "attachments": {},
   "cell_type": "markdown",
   "id": "c30bac97",
   "metadata": {},
   "source": [
    "After chatting for a while, we have built a growing history, which we are attaching to each prompt and which contains the full conversation. Let's take a look!"
   ]
  },
  {
   "cell_type": "code",
   "execution_count": 14,
   "id": "5e34ae55",
   "metadata": {},
   "outputs": [
    {
     "name": "stdout",
     "output_type": "stream",
     "text": [
      "<chat_history><message role=\"system\">You are a helpful chatbot who is good about giving book recommendations.</message><message role=\"assistant\">Of course, I'd be happy to help with that. Could you please provide a little more information? What type of books do you typically enjoy? For example, are you interested in fiction or non-fiction? Do you prefer a specific genre such as mystery, fantasy, romance, science fiction, history, etc?</message><message role=\"user\">I love history and philosophy, I'd like to learn something new about Greece, any suggestion?</message><message role=\"assistant\">Certainly, based on your interest in history, philosophy, and Greece, I can suggest a few books:\n",
      "\n",
      "1. \"The Histories\" by Herodotus: Known as 'The Father of History', Herodotus was a Greek historian who wrote a detailed record of the ancient world which includes a lot about ancient Greece.\n",
      "\n",
      "2. \"History of the Peloponnesian War\" by Thucydides: This is a historical account of the Peloponnesian War (431–404 BC), which was fought between the Peloponnesian League (led by Sparta) and the Delian League (led by Athens). \n",
      "\n",
      "3. \"Plato's Republic\": Plato was one of the most important figures in Western philosophy. In \"The Republic\", Plato imagines a perfect society and discusses concepts of justice, the role of a ruler, and the value of education.\n",
      "\n",
      "4. \"The Iliad\" and \"The Odyssey\" by Homer: These epic poems are among the oldest works of Western literature and provide a lot of insight into ancient Greek culture and mythology.\n",
      "\n",
      "5. \"The Complete Works\" by Aristotle: Aristotle was one of the most influential philosophers in Western history. His works cover a wide range of topics including ethics, politics, metaphysics, and the natural sciences.\n",
      "\n",
      "6. \"The Greeks\" by H.D.F Kitto: This book is a good overview of Greek history, culture, and achievements.\n",
      "\n",
      "Remember, it's always a good idea to read reviews or summaries before picking up a book to make sure it's something you're interested in!</message><message role=\"user\">that sounds interesting, what is it about?</message><message role=\"assistant\">You asked about several books, which one specifically are you interested in knowing more about?</message><message role=\"user\">if I read that book, what exactly will I learn about Greek history?</message><message role=\"assistant\">It seems like there's a bit of confusion. Could you please specify which book you're referring to? Then I can provide a more detailed explanation.</message><message role=\"user\">could you list some more books I could read about this topic?</message><message role=\"assistant\">Absolutely, here are a few more recommendations for books about Greek history and philosophy:\n",
      "\n",
      "1. \"The World of Odysseus\" by M.I. Finley: This book provides a fascinating look into the society and values of the Mycenaeans, the ancient Greeks of the Iliad and Odyssey.\n",
      "\n",
      "2. \"The Oresteia\" by Aeschylus: This is a trilogy of Greek tragedies concerning the end of the curse on the House of Atreus. \n",
      "\n",
      "3. \"The Symposium\" by Plato: This is one of Plato's most famous works, in which various guests at a banquet each give a speech in honor of the god Eros and debate the nature of love. \n",
      "\n",
      "4. \"The Nicomachean Ethics\" by Aristotle: This is one of Aristotle's most well-known works and forms the basis of much of Western moral philosophy.\n",
      "\n",
      "5. \"The Birth of Tragedy\" by Friedrich Nietzsche: This is an interesting read for those interested in both philosophy and ancient Greece. Nietzsche uses Greek tragedy as a launching point for his own philosophical ideas.\n",
      "\n",
      "6. \"Greek Fire, Poison Arrows &amp; Scorpion Bombs\" by Adrienne Mayor: This book discusses the biological and chemical warfare in the ancient world, offering a different perspective on ancient Greek warfare.\n",
      "\n",
      "7. \"The Classical World: An Epic History from Homer to Hadrian\" by Robin Lane Fox: This book provides a broad overview of the ancient Greek and Roman worlds.\n",
      "\n",
      "Again, it's a good idea to read reviews or summaries to ensure the book aligns with your specific interests before picking it up.</message></chat_history>\n"
     ]
    }
   ],
   "source": [
    "print(chat_history)"
   ]
  }
 ],
 "metadata": {
  "kernelspec": {
   "display_name": "Python 3 (ipykernel)",
   "language": "python",
   "name": "python3"
  },
  "language_info": {
   "codemirror_mode": {
    "name": "ipython",
    "version": 3
   },
   "file_extension": ".py",
   "mimetype": "text/x-python",
   "name": "python",
   "nbconvert_exporter": "python",
   "pygments_lexer": "ipython3",
   "version": "3.10.13"
  }
 },
 "nbformat": 4,
 "nbformat_minor": 5
}
